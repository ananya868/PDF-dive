{
 "cells": [
  {
   "cell_type": "code",
   "execution_count": 18,
   "id": "b7b45eb8",
   "metadata": {},
   "outputs": [
    {
     "data": {
      "text/plain": [
       "Recipe(recipe_name='Classic Chocolate Chip Cookies', ingredients=[Ingredient(name='All-purpose flour', quantity='2', quantity_unit='cups'), Ingredient(name='Baking soda', quantity='1', quantity_unit='teaspoon'), Ingredient(name='Salt', quantity='1', quantity_unit='teaspoon'), Ingredient(name='Granulated sugar', quantity='3/4', quantity_unit='cup'), Ingredient(name='Brown sugar', quantity='3/4', quantity_unit='cup'), Ingredient(name='Butter', quantity='1', quantity_unit='cup'), Ingredient(name='Large eggs', quantity='2', quantity_unit=None), Ingredient(name='Vanilla extract', quantity='1', quantity_unit='teaspoon'), Ingredient(name='Semi-sweet chocolate chips', quantity='2', quantity_unit='cups')], directions=['Preheat oven to 375°F (190°C). Line a baking sheet with parchment paper.', 'Whisk together flour, baking soda, and salt. Set aside.', 'Cream together sugars and butter until light and fluffy.', 'Beat in eggs one at a time, followed by vanilla extract.', 'Gradually mix in the dry ingredients until just combined.', 'Stir in chocolate chips.', 'Drop rounded tablespoonfuls of dough onto the prepared baking sheet.', 'Bake for 10-12 minutes or until lightly golden brown.', 'Let cool on the baking sheet for 5 minutes before transferring to a wire rack to cool completely.'])"
      ]
     },
     "execution_count": 18,
     "metadata": {},
     "output_type": "execute_result"
    }
   ],
   "source": [
    "from typing import List, Optional\n",
    "import json\n",
    "\n",
    "from pydantic import BaseModel\n",
    "from groq import Groq\n",
    "\n",
    "from dotenv import load_dotenv\n",
    "load_dotenv()\n",
    "\n",
    "groq = Groq()\n",
    "\n",
    "\n",
    "# Data model for LLM to generate\n",
    "class Ingredient(BaseModel):\n",
    "    name: str\n",
    "    quantity: str\n",
    "    quantity_unit: Optional[str]\n",
    "\n",
    "\n",
    "class Recipe(BaseModel):\n",
    "    recipe_name: str\n",
    "    ingredients: List[Ingredient]\n",
    "    directions: List[str]\n",
    "\n",
    "\n",
    "def get_recipe(recipe_name: str) -> Recipe:\n",
    "    chat_completion = groq.chat.completions.create(\n",
    "        messages=[\n",
    "            {\n",
    "                \"role\": \"system\",\n",
    "                \"content\": \"You are a recipe database that outputs recipes in JSON.\\n\"\n",
    "                # Pass the json schema to the model. Pretty printing improves results.\n",
    "                f\" The JSON object must use the schema: {json.dumps(Recipe.model_json_schema(), indent=2)}\",\n",
    "            },\n",
    "            {\n",
    "                \"role\": \"user\",\n",
    "                \"content\": f\"Fetch a recipe for {recipe_name}\",\n",
    "            },\n",
    "        ],\n",
    "        model=\"meta-llama/llama-4-scout-17b-16e-instruct\",\n",
    "        temperature=0,\n",
    "        # Streaming is not supported in JSON mode\n",
    "        stream=False,\n",
    "        # Enable JSON mode by setting the response format\n",
    "        response_format={\"type\": \"json_object\"},\n",
    "    )\n",
    "    return Recipe.model_validate_json(chat_completion.choices[0].message.content)\n",
    "\n",
    "\n",
    "# def main():\n",
    "recipe_name = \"chocolate chip cookies\"\n",
    "recipe = get_recipe(recipe_name)\n",
    "recipe"
   ]
  },
  {
   "cell_type": "code",
   "execution_count": 19,
   "id": "55f0ce24",
   "metadata": {},
   "outputs": [
    {
     "data": {
      "text/plain": [
       "{'recipe_name': 'Classic Chocolate Chip Cookies',\n",
       " 'ingredients': [{'name': 'All-purpose flour',\n",
       "   'quantity': '2',\n",
       "   'quantity_unit': 'cups'},\n",
       "  {'name': 'Baking soda', 'quantity': '1', 'quantity_unit': 'teaspoon'},\n",
       "  {'name': 'Salt', 'quantity': '1', 'quantity_unit': 'teaspoon'},\n",
       "  {'name': 'Granulated sugar', 'quantity': '3/4', 'quantity_unit': 'cup'},\n",
       "  {'name': 'Brown sugar', 'quantity': '3/4', 'quantity_unit': 'cup'},\n",
       "  {'name': 'Butter', 'quantity': '1', 'quantity_unit': 'cup'},\n",
       "  {'name': 'Large eggs', 'quantity': '2', 'quantity_unit': None},\n",
       "  {'name': 'Vanilla extract', 'quantity': '1', 'quantity_unit': 'teaspoon'},\n",
       "  {'name': 'Semi-sweet chocolate chips',\n",
       "   'quantity': '2',\n",
       "   'quantity_unit': 'cups'}],\n",
       " 'directions': ['Preheat oven to 375°F (190°C). Line a baking sheet with parchment paper.',\n",
       "  'Whisk together flour, baking soda, and salt. Set aside.',\n",
       "  'Cream together sugars and butter until light and fluffy.',\n",
       "  'Beat in eggs one at a time, followed by vanilla extract.',\n",
       "  'Gradually mix in the dry ingredients until just combined.',\n",
       "  'Stir in chocolate chips.',\n",
       "  'Drop rounded tablespoonfuls of dough onto the prepared baking sheet.',\n",
       "  'Bake for 10-12 minutes or until lightly golden brown.',\n",
       "  'Let cool on the baking sheet for 5 minutes before transferring to a wire rack to cool completely.']}"
      ]
     },
     "execution_count": 19,
     "metadata": {},
     "output_type": "execute_result"
    }
   ],
   "source": [
    "recipe.model_dump()"
   ]
  },
  {
   "cell_type": "code",
   "execution_count": null,
   "id": "f16f9c14",
   "metadata": {},
   "outputs": [],
   "source": []
  }
 ],
 "metadata": {
  "kernelspec": {
   "display_name": "base",
   "language": "python",
   "name": "python3"
  },
  "language_info": {
   "codemirror_mode": {
    "name": "ipython",
    "version": 3
   },
   "file_extension": ".py",
   "mimetype": "text/x-python",
   "name": "python",
   "nbconvert_exporter": "python",
   "pygments_lexer": "ipython3",
   "version": "3.11.5"
  }
 },
 "nbformat": 4,
 "nbformat_minor": 5
}
