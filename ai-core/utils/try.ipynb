{
 "cells": [
  {
   "cell_type": "code",
   "execution_count": null,
   "id": "b7b45eb8",
   "metadata": {},
   "outputs": [],
   "source": [
    "# For general text generation\n",
    "from llm.general import OpenAIGeneral\n",
    "\n",
    "general_client = OpenAIGeneral(api_key=\"your-openai-api-key\")\n",
    "response = general_client.generate(\"Write a short story about a robot\")\n",
    "\n",
    "# For structured output\n",
    "from llm.structured import OpenAIStructured\n",
    "\n",
    "structured_client = OpenAIStructured(api_key=\"your-openai-api-key\")\n",
    "json_response = structured_client.generate(\n",
    "    \"Extract the following entities from this text: John Smith visited Paris on June 15, 2024\"\n",
    ")"
   ]
  }
 ],
 "metadata": {
  "kernelspec": {
   "display_name": "base",
   "language": "python",
   "name": "python3"
  },
  "language_info": {
   "codemirror_mode": {
    "name": "ipython",
    "version": 3
   },
   "file_extension": ".py",
   "mimetype": "text/x-python",
   "name": "python",
   "nbconvert_exporter": "python",
   "pygments_lexer": "ipython3",
   "version": "3.11.5"
  }
 },
 "nbformat": 4,
 "nbformat_minor": 5
}
